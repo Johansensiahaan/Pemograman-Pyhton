{
  "nbformat": 4,
  "nbformat_minor": 0,
  "metadata": {
    "colab": {
      "name": "Untitled5.ipynb",
      "provenance": [],
      "authorship_tag": "ABX9TyMgdL86rb5/rdDbEeiMFf3l",
      "include_colab_link": true
    },
    "kernelspec": {
      "name": "python3",
      "display_name": "Python 3"
    }
  },
  "cells": [
    {
      "cell_type": "markdown",
      "metadata": {
        "id": "view-in-github",
        "colab_type": "text"
      },
      "source": [
        "<a href=\"https://colab.research.google.com/github/Johansensiahaan/Pemograman-Pyhton/blob/main/Komunikasi%20wireless%20Johansen%20ipynb\" target=\"_parent\"><img src=\"https://colab.research.google.com/assets/colab-badge.svg\" alt=\"Open In Colab\"/></a>"
      ]
    },
    {
      "cell_type": "code",
      "metadata": {
        "id": "0InODgpmLf8w",
        "colab": {
          "base_uri": "https://localhost:8080/"
        },
        "outputId": "ed050082-67a5-47c9-828a-a79cd88c1912"
      },
      "source": [
        "#program utamaaaa\r\n",
        "d = int(input(\"Masukkan jarak dalam kilometer: \"))\r\n",
        "fc = int(input(\"Masukkan frekuensi 150 MHz-2000 MHz: \"))\r\n",
        "area = input(\"Masukkan tipe area: \")\r\n",
        "ht = int(input(\"Masukkan tinggi antena pemancar 30-200 meter: \"))\r\n",
        "hr = int(input(\"Masukkan tinggi antena penerima 1-30 meter: \"))"
      ],
      "execution_count": 1,
      "outputs": [
        {
          "output_type": "stream",
          "text": [
            "Masukkan jarak dalam kilometer: 150\n",
            "Masukkan frekuensi 150 MHz-2000 MHz: 1500\n",
            "Masukkan tipe area: open\n",
            "Masukkan tinggi antena pemancar 30-200 meter: 50\n",
            "Masukkan tinggi antena penerima 1-30 meter: 50\n"
          ],
          "name": "stdout"
        }
      ]
    },
    {
      "cell_type": "code",
      "metadata": {
        "id": "cArqS-NGmIQG"
      },
      "source": [
        "import numpy as np"
      ],
      "execution_count": 2,
      "outputs": []
    },
    {
      "cell_type": "code",
      "metadata": {
        "id": "2dROxd-4IC-k"
      },
      "source": [
        "NtL = lambda x: 10*np.log10(x)"
      ],
      "execution_count": 3,
      "outputs": []
    },
    {
      "cell_type": "code",
      "metadata": {
        "id": "_ucTblHWIbv0"
      },
      "source": [
        "LtN = lambda x: 10**(x/10)"
      ],
      "execution_count": 4,
      "outputs": []
    },
    {
      "cell_type": "code",
      "metadata": {
        "id": "_BOARhn-E8qz"
      },
      "source": [
        "def cesatu (frek):\r\n",
        "  if frek in range (400,1500):\r\n",
        "    return 69.55\r\n",
        "\r\n",
        "  elif frek in range (1500,2000):\r\n",
        "    return 46.3"
      ],
      "execution_count": 5,
      "outputs": []
    },
    {
      "cell_type": "code",
      "metadata": {
        "id": "M9UJjMBIGJmd"
      },
      "source": [
        "def cedua (frek):\r\n",
        "  if frek in range (400,1500):\r\n",
        "    return 26.16\r\n",
        "\r\n",
        "  elif frek in range (1500,2000):\r\n",
        "    return 33.9"
      ],
      "execution_count": 6,
      "outputs": []
    },
    {
      "cell_type": "code",
      "metadata": {
        "id": "9ngMqZhrJ0ZI"
      },
      "source": [
        "def ceem (area,fc):\r\n",
        "  if area ==  \"urban\":\r\n",
        "    return 0\r\n",
        "  if area == \"suburban\":\r\n",
        "    return -2*(np.log10(fc/28)**2 - 5.4)\r\n",
        "  if area == \"open\":\r\n",
        "    return -4.78*(np.log10(fc))**2 + 18.33*np.log10(fc) - 40.94    "
      ],
      "execution_count": 7,
      "outputs": []
    },
    {
      "cell_type": "code",
      "metadata": {
        "id": "oTKdXvWEH6oj"
      },
      "source": [
        "def ahaer(frek):\r\n",
        "  return (1.1*np.log10(frek)-0.7)*hr - (1.56*np.log10(frek)-0.8)"
      ],
      "execution_count": 8,
      "outputs": []
    },
    {
      "cell_type": "code",
      "metadata": {
        "id": "Se8IiO67YL-u"
      },
      "source": [
        "c1 = cesatu(fc)\r\n",
        "c2 = cedua(fc)\r\n",
        "cm = ceem(area,fc)\r\n",
        "ahr = ahaer(fc)"
      ],
      "execution_count": 9,
      "outputs": []
    },
    {
      "cell_type": "code",
      "metadata": {
        "id": "OYKfTd_3YNSM",
        "colab": {
          "base_uri": "https://localhost:8080/"
        },
        "outputId": "3ad38f2d-5140-469f-8e2f-58f0148da1c1"
      },
      "source": [
        "print(c1)\r\n",
        "print(c2)\r\n",
        "print(cm)\r\n",
        "print(ahr)"
      ],
      "execution_count": 10,
      "outputs": [
        {
          "output_type": "stream",
          "text": [
            "46.3\n",
            "33.9\n",
            "-30.940763399871905\n",
            "135.53031688393563\n"
          ],
          "name": "stdout"
        }
      ]
    },
    {
      "cell_type": "code",
      "metadata": {
        "id": "_RWlosFdLhlO",
        "colab": {
          "base_uri": "https://localhost:8080/"
        },
        "outputId": "f710b72b-96e7-4464-dbe1-e470e5b7a79f"
      },
      "source": [
        "pldb = c1 + c2*np.log10(fc) - 13.83*np.log10(ht) - ahr + (44.9-6.55*np.log10(ht))*np.log10(d) + cm\n",
        "print(\"Pathloss adalah: \" , pldb , \" db\")"
      ],
      "execution_count": 11,
      "outputs": [
        {
          "output_type": "stream",
          "text": [
            "Pathloss adalah:  37.492060538104205  db\n"
          ],
          "name": "stdout"
        }
      ]
    }
  ]
}