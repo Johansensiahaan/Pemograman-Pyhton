{
  "nbformat": 4,
  "nbformat_minor": 0,
  "metadata": {
    "colab": {
      "name": "Grafik Pathloss Johansen.ipynb",
      "provenance": [],
      "authorship_tag": "ABX9TyMK7nrK0SOZqHTHYjhgRRkT",
      "include_colab_link": true
    },
    "kernelspec": {
      "name": "python3",
      "display_name": "Python 3"
    }
  },
  "cells": [
    {
      "cell_type": "markdown",
      "metadata": {
        "id": "view-in-github",
        "colab_type": "text"
      },
      "source": [
        "<a href=\"https://colab.research.google.com/github/Johansensiahaan/Pemograman-Pyhton/blob/main/Grafik_Pathloss_Johansen.ipynb\" target=\"_parent\"><img src=\"https://colab.research.google.com/assets/colab-badge.svg\" alt=\"Open In Colab\"/></a>"
      ]
    },
    {
      "cell_type": "code",
      "metadata": {
        "id": "ruHX9Pf-Feo2"
      },
      "source": [
        "import numpy as np\r\n",
        "import matplotlib.pyplot as plt"
      ],
      "execution_count": 1,
      "outputs": []
    },
    {
      "cell_type": "code",
      "metadata": {
        "id": "RLhMQKafFlyn"
      },
      "source": [
        "def cos(frek,tipe,ht,hr,d):\r\n",
        "  #frek = frekuensi (MHz)\r\n",
        "  #tipe = urban, suburban, open\r\n",
        "  #ht = tinggi tower (meter)\r\n",
        "  #hr = tinggi user (meter)\r\n",
        "  #d = jarak (meter)\r\n",
        "    if frek in range(150,1501):\r\n",
        "        Ca=69.55\r\n",
        "        Cb=26.16\r\n",
        "    elif frek in range(1501,2001):\r\n",
        "        Ca=46.3\r\n",
        "        Cb=33.9\r\n",
        "    \r\n",
        "    if tipe=='urban' :\r\n",
        "        Cm=0\r\n",
        "    elif tipe=='suburban' :\r\n",
        "        Cm= -2*((np.log10((frek/28)**2))-5.4)\r\n",
        "    elif tipe=='open' :\r\n",
        "        Cm= -4.78*(np.log10(frek))+18.33*(np.log10(frek))-40.94\r\n",
        "    else :\r\n",
        "        Cm='tipe salah'\r\n",
        "    \r\n",
        "    ahr = (1.1*np.log10(frek)-0.7)*hr-(1.56*np.log10(frek)-1.8)\r\n",
        "    Lp = Ca+(Cb*np.log10(frek))-(13.83*np.log(ht))-ahr+((44.9-6.55*np.log10(ht))*np.log10(d))-Cm\r\n",
        "    \r\n",
        "    return Lp"
      ],
      "execution_count": 2,
      "outputs": []
    },
    {
      "cell_type": "code",
      "metadata": {
        "id": "SjNK-pYbRKJ0"
      },
      "source": [
        "tower=80  \r\n",
        "user=1.5 \r\n",
        "dmin=200 \r\n",
        "dmax=700 \r\n",
        "N=200 \r\n",
        "d=np.random.randint(dmin,dmax,N)"
      ],
      "execution_count": 3,
      "outputs": []
    },
    {
      "cell_type": "code",
      "metadata": {
        "id": "akIeAXxkK46R"
      },
      "source": [
        "def location1():\r\n",
        "  f=1800 \r\n",
        "  loc='urban'\r\n",
        "  LpUrban=cos(f,loc,tower,user,d)\r\n",
        "  d_sort=d[np.argsort(d)]\r\n",
        "  Urban_sort=LpUrban[np.argsort(d)]\r\n",
        "  return d_sort,Urban_sort"
      ],
      "execution_count": 4,
      "outputs": []
    },
    {
      "cell_type": "code",
      "metadata": {
        "id": "hy6mmqYfOFrp"
      },
      "source": [
        "def location2():\r\n",
        "  f=1800 \r\n",
        "  loc='open'\r\n",
        "  LpUrban=cos(f,loc,tower,user,d)\r\n",
        "  d_sort=d[np.argsort(d)]\r\n",
        "  Urban_sort=LpUrban[np.argsort(d)]\r\n",
        "  return d_sort,Urban_sort"
      ],
      "execution_count": 5,
      "outputs": []
    },
    {
      "cell_type": "code",
      "metadata": {
        "id": "y7mFR8XkL_f6"
      },
      "source": [
        "def location3():\r\n",
        "  f=1800 \r\n",
        "  loc='suburban'\r\n",
        "  LpUrban=cos(f,loc,tower,user,d)\r\n",
        "  d_sort=d[np.argsort(d)]\r\n",
        "  Urban_sort=LpUrban[np.argsort(d)]\r\n",
        "  return d_sort,Urban_sort"
      ],
      "execution_count": 6,
      "outputs": []
    },
    {
      "cell_type": "code",
      "metadata": {
        "id": "V9jzFO0Srzl6"
      },
      "source": [
        ""
      ],
      "execution_count": 6,
      "outputs": []
    },
    {
      "cell_type": "code",
      "metadata": {
        "id": "RtNwLIygPwsz"
      },
      "source": [
        "def freq1():\r\n",
        "  f=700 \r\n",
        "  loc='urban'\r\n",
        "  LpUrban=cos(f,loc,tower,user,d)\r\n",
        "  d_sort=d[np.argsort(d)]\r\n",
        "  Urban_sort=LpUrban[np.argsort(d)]\r\n",
        "  return d_sort,Urban_sort"
      ],
      "execution_count": 7,
      "outputs": []
    },
    {
      "cell_type": "code",
      "metadata": {
        "id": "3iVaiKreP1zB"
      },
      "source": [
        "def freq2():\r\n",
        "  f=900 \r\n",
        "  loc='urban'\r\n",
        "  LpUrban=cos(f,loc,tower,user,d)\r\n",
        "  d_sort=d[np.argsort(d)]\r\n",
        "  Urban_sort=LpUrban[np.argsort(d)]\r\n",
        "  return d_sort,Urban_sort"
      ],
      "execution_count": 8,
      "outputs": []
    },
    {
      "cell_type": "code",
      "metadata": {
        "id": "IAU74sTYP2ZV"
      },
      "source": [
        "def freq3():\r\n",
        "  f=1800 \r\n",
        "  loc='urban'\r\n",
        "  LpUrban=cos(f,loc,tower,user,d)\r\n",
        "  d_sort=d[np.argsort(d)]\r\n",
        "  Urban_sort=LpUrban[np.argsort(d)]\r\n",
        "  return d_sort,Urban_sort\r\n",
        "\r\n",
        "  #inget nama lokasi sm frek nya diganti apa"
      ],
      "execution_count": 9,
      "outputs": []
    },
    {
      "cell_type": "code",
      "metadata": {
        "id": "XuVoHIbBJoIq"
      },
      "source": [
        "# variabel lokasi sama frek dibawah ganti ikutin yg atas lu ganti apa\r\n",
        "# d,u,v, e nya ganti ae bebas sih tp inget diganti apa\r\n",
        "a1,b1 = location1()\r\n",
        "a2,b2 = location2()\r\n",
        "a3,b3 = location3()\r\n",
        "\r\n",
        "c1,d1 = freq1()\r\n",
        "c2,d2 = freq2()\r\n",
        "c3,d3 = freq3()"
      ],
      "execution_count": 10,
      "outputs": []
    },
    {
      "cell_type": "code",
      "metadata": {
        "colab": {
          "base_uri": "https://localhost:8080/",
          "height": 541
        },
        "id": "XgoxzCNUKAFh",
        "outputId": "5c9854c6-47c1-4708-9110-d26a1ce04775"
      },
      "source": [
        "plt.figure()\r\n",
        "plt.plot(a1,b1,'c', label='urban')\r\n",
        "plt.plot(a2,b2,'k', label='open')\r\n",
        "plt.plot(a3,b3,'y', label='suburban')\r\n",
        "plt.legend()\r\n",
        "plt.xlabel('Jarak (m)')\r\n",
        "plt.ylabel('Path Loss (dB)')\r\n",
        "plt.show()\r\n",
        "\r\n",
        "\r\n",
        "plt.figure()\r\n",
        "plt.plot(c1,d1,'b', label='700 Mhz')\r\n",
        "plt.plot(c2,d2,'r', label='900 Mhz')\r\n",
        "plt.plot(c3,d3,'g', label='1800 Mhz')\r\n",
        "plt.legend()\r\n",
        "plt.xlabel('Jarak (m)')\r\n",
        "plt.ylabel('Path Loss (dB)')\r\n",
        "plt.show()"
      ],
      "execution_count": 11,
      "outputs": [
        {
          "output_type": "display_data",
          "data": {
            "image/png": "[encoded data removed]",
            "text/plain": [
              "<Figure size 432x288 with 1 Axes>"
            ]
          },
          "metadata": {
            "tags": [],
            "needs_background": "light"
          }
        },
        {
          "output_type": "display_data",
          "data": {
            "image/png": "[encoded data removed]",
            "text/plain": [
              "<Figure size 432x288 with 1 Axes>"
            ]
          },
          "metadata": {
            "tags": [],
            "needs_background": "light"
          }
        }
      ]
    }
  ]
}